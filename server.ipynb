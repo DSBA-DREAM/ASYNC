{
 "cells": [
  {
   "cell_type": "code",
   "execution_count": 47,
   "metadata": {},
   "outputs": [
    {
     "data": {
      "text/html": [
       "\n",
       "<style>\n",
       "img[alt=\"_\"]{\n",
       "    max-width: 500px;\n",
       "    display: inline-block;\n",
       "}\n",
       "</style>"
      ],
      "text/plain": [
       "<IPython.core.display.HTML object>"
      ]
     },
     "metadata": {},
     "output_type": "display_data"
    }
   ],
   "source": [
    "%%html\n",
    "\n",
    "<style>\n",
    "img[alt=\"_\"]{\n",
    "    max-width: 500px;\n",
    "    display: inline-block;\n",
    "}\n",
    "</style>"
   ]
  },
  {
   "cell_type": "markdown",
   "metadata": {},
   "source": [
    "### Python 동시성 프로그래밍\n",
    "\n",
    "- http://hamait.tistory.com/752?category=79136\n",
    "- https://soooprmx.com/archives/6882\n",
    "- http://hurderella.tistory.com/86\n",
    "\n",
    "싱글스레드\n",
    "> - http://pythonstudy.xyz/python/article/24-%EC%93%B0%EB%A0%88%EB%93%9C-Thread\n",
    "> - http://highthroughput.org/wp/cb-1136/\n",
    "> - https://yinjae.wordpress.com/2012/04/02/python-thread/\n",
    "\n",
    "병렬처리\n",
    "> - 멀티스레드 X (GIL)\n",
    "> - 멀티 프로세스 O\n",
    "\n",
    "계산비용\n",
    "> - CPU BOUND\n",
    "> - I/O BOUND"
   ]
  },
  {
   "cell_type": "code",
   "execution_count": 48,
   "metadata": {
    "collapsed": true
   },
   "outputs": [],
   "source": [
    "import time\n",
    "import asyncio"
   ]
  },
  {
   "cell_type": "markdown",
   "metadata": {},
   "source": [
    "# Synchronous"
   ]
  },
  {
   "cell_type": "code",
   "execution_count": 49,
   "metadata": {},
   "outputs": [
    {
     "name": "stdout",
     "output_type": "stream",
     "text": [
      "run function for 100000\n",
      "Highest prime below 100000 is 99991\n",
      "run function for 10000\n",
      "Highest prime below 10000 is 9973\n",
      "run function for 1000\n",
      "Highest prime below 1000 is 997\n",
      "run function for 2\n",
      "2 is smallest prime\n",
      "1.8633947372436523\n"
     ]
    }
   ],
   "source": [
    "def is_prime(x):\n",
    "    \n",
    "    return not any(x // i == x / i for i in range(2, x - 1))\n",
    "\n",
    "\n",
    "def highest_prime_below(x):\n",
    "    \n",
    "    print(\"run function for %d\" % x)\n",
    "    \n",
    "    for y in range(x-1, 1, -1):\n",
    "        if is_prime(y):\n",
    "            print(\"Highest prime below %d is %d\" % (x, y))\n",
    "            break\n",
    "        time.sleep(0.05)\n",
    "    else:\n",
    "        print(\"%d is smallest prime\" % x)\n",
    "    return None\n",
    "\n",
    "\n",
    "def main():\n",
    "    \n",
    "    start = time.time()\n",
    "    highest_prime_below(100000)\n",
    "    highest_prime_below(10000)\n",
    "    highest_prime_below(1000)\n",
    "    highest_prime_below(2)\n",
    "    print(time.time() - start)\n",
    "    \n",
    "    \n",
    "if __name__ == \"__main__\":\n",
    "    main()"
   ]
  },
  {
   "cell_type": "markdown",
   "metadata": {},
   "source": [
    "# Asynchronous"
   ]
  },
  {
   "cell_type": "code",
   "execution_count": 50,
   "metadata": {},
   "outputs": [
    {
     "name": "stdout",
     "output_type": "stream",
     "text": [
      "run function for 1000\n",
      "run function for 10000\n",
      "run function for 2\n",
      "2 is smallest prime\n",
      "run function for 100000\n",
      "Highest prime below 1000 is 997\n",
      "Highest prime below 100000 is 99991\n",
      "Highest prime below 10000 is 9973\n",
      "1.3283908367156982\n"
     ]
    }
   ],
   "source": [
    "async def highest_prime_below(x):\n",
    "\n",
    "    print(\"run function for %d\" % x)\n",
    "    \n",
    "    for y in range(x-1, 1, -1):\n",
    "        if is_prime(y):\n",
    "            print(\"Highest prime below %d is %d\" % (x, y))\n",
    "            break\n",
    "        await asyncio.sleep(0.05)\n",
    "    else:\n",
    "        print(\"%d is smallest prime\" % x)\n",
    "    return None\n",
    "\n",
    "\n",
    "async def main():\n",
    "    \n",
    "    start = time.time()\n",
    "    \n",
    "    await asyncio.wait([\n",
    "        highest_prime_below(100000),\n",
    "        highest_prime_below(10000),\n",
    "        highest_prime_below(1000),\n",
    "        highest_prime_below(2)])\n",
    "    \n",
    "    print(time.time() - start)\n",
    "    \n",
    "\n",
    "if __name__ == \"__main__\":\n",
    "\n",
    "    loop = asyncio.get_event_loop()\n",
    "    loop.run_until_complete(main())"
   ]
  },
  {
   "cell_type": "markdown",
   "metadata": {},
   "source": [
    "# CPU-BOUND EXAMPLE"
   ]
  },
  {
   "cell_type": "code",
   "execution_count": 203,
   "metadata": {
    "collapsed": true
   },
   "outputs": [],
   "source": [
    "N = 100000000\n",
    "D = 5\n",
    "\n",
    "def function(from_, to):\n",
    "    \n",
    "    print(sum(range(from_, to)))"
   ]
  },
  {
   "cell_type": "markdown",
   "metadata": {},
   "source": [
    "# 단순처리"
   ]
  },
  {
   "cell_type": "code",
   "execution_count": 204,
   "metadata": {},
   "outputs": [
    {
     "name": "stdout",
     "output_type": "stream",
     "text": [
      "199999990000000\n",
      "599999990000000\n",
      "999999990000000\n",
      "1399999990000000\n",
      "1799999990000000\n",
      "3.049006700515747\n"
     ]
    }
   ],
   "source": [
    "start = time.time()\n",
    "dvs = [[N // D * i, N // D * (i + 1)] for i in range(D)]\n",
    "for dv in dvs:\n",
    "    function(*dv)\n",
    "print(time.time() - start)"
   ]
  },
  {
   "cell_type": "markdown",
   "metadata": {},
   "source": [
    "# 비동기처리"
   ]
  },
  {
   "cell_type": "code",
   "execution_count": 206,
   "metadata": {},
   "outputs": [
    {
     "name": "stdout",
     "output_type": "stream",
     "text": [
      "59999999000000099999999000000019999999000000017999999900000001399999990000000\n",
      "\n",
      "\n",
      "\n",
      "\n",
      "3.244000196456909\n",
      "\n"
     ]
    }
   ],
   "source": [
    "async def each_get(from_, to):\n",
    "\n",
    "    await loop.run_in_executor(None, function, from_, to)\n",
    "\n",
    "    \n",
    "async def coget():\n",
    "    \n",
    "    dvs = [[N // D * i, N // D * (i + 1)] for i in range(D)]\n",
    "    await asyncio.gather(*[each_get(*dv) for dv in dvs])\n",
    "    \n",
    "start = time.time()\n",
    "loop = asyncio.get_event_loop()\n",
    "loop.run_until_complete(coget())\n",
    "record = time.time() - start\n",
    "print()\n",
    "print(record)"
   ]
  },
  {
   "cell_type": "markdown",
   "metadata": {},
   "source": [
    "# I/O-BOUND EXAMPLE"
   ]
  },
  {
   "cell_type": "code",
   "execution_count": 199,
   "metadata": {
    "collapsed": true
   },
   "outputs": [],
   "source": [
    "import requests\n",
    "\n",
    "N = 5\n",
    "\n",
    "def FUNCTION():\n",
    "    requests.get(\"https://sites.google.com/a/chromium.org/chromedriver/getting-started\")"
   ]
  },
  {
   "cell_type": "markdown",
   "metadata": {},
   "source": [
    "# 단순처리"
   ]
  },
  {
   "cell_type": "code",
   "execution_count": 200,
   "metadata": {},
   "outputs": [
    {
     "name": "stdout",
     "output_type": "stream",
     "text": [
      "2.228257179260254\n"
     ]
    }
   ],
   "source": [
    "if __name__ == \"__main__\":\n",
    "\n",
    "    start = time.time()\n",
    "    for _ in range(N):\n",
    "        FUNCTION()\n",
    "    print(time.time() - start)"
   ]
  },
  {
   "cell_type": "markdown",
   "metadata": {},
   "source": [
    "# 비동기처리"
   ]
  },
  {
   "cell_type": "code",
   "execution_count": 201,
   "metadata": {},
   "outputs": [
    {
     "name": "stdout",
     "output_type": "stream",
     "text": [
      "0.401519775390625\n"
     ]
    }
   ],
   "source": [
    "async def each_get():\n",
    "\n",
    "    await loop.run_in_executor(None, FUNCTION)\n",
    "\n",
    "    \n",
    "async def coget():\n",
    "    \n",
    "    await asyncio.wait([each_get() for _ in range(N)])\n",
    "    \n",
    "\n",
    "if __name__ == \"__main__\":\n",
    "\n",
    "    start = time.time()\n",
    "    loop = asyncio.get_event_loop()\n",
    "    loop.run_until_complete(coget())\n",
    "    record = time.time() - start\n",
    "    time.sleep(0.1)\n",
    "    print(record)"
   ]
  },
  {
   "cell_type": "markdown",
   "metadata": {
    "collapsed": true
   },
   "source": [
    "```python\n",
    "# 속도 개선이 안됨..\n",
    "\n",
    "N = 10\n",
    "MB = 300\n",
    "\n",
    "with open(\"data\", \"wb\") as f:\n",
    "    f.write(b\"\\x00\" * 1000 * 1000 * MB)\n",
    "\n",
    "def FUNCTION():\n",
    "    with open(\"data\") as f:\n",
    "        f.read()\n",
    "```"
   ]
  },
  {
   "cell_type": "markdown",
   "metadata": {},
   "source": [
    "# Chatting Server"
   ]
  },
  {
   "cell_type": "code",
   "execution_count": 5,
   "metadata": {},
   "outputs": [
    {
     "name": "stdout",
     "output_type": "stream",
     "text": [
      "Collecting websockets\n",
      "  Downloading websockets-4.0.1-cp36-cp36m-win_amd64.whl (77kB)\n",
      "Installing collected packages: websockets\n",
      "Successfully installed websockets-4.0.1\n"
     ]
    }
   ],
   "source": [
    "!pip install websockets"
   ]
  },
  {
   "cell_type": "code",
   "execution_count": null,
   "metadata": {},
   "outputs": [],
   "source": [
    "import asyncio\n",
    "import websockets\n",
    "import time\n",
    "\n",
    "\n",
    "async def handler(websocket, path):\n",
    "\n",
    "    global connected\n",
    "    connected.add(websocket)\n",
    "    n_of_con = len(connected)\n",
    "    \n",
    "    while True:\n",
    "        await asyncio.sleep(2)\n",
    "        if len(connected) == n_of_con:\n",
    "            for ws in connected:\n",
    "                try:\n",
    "                    message = str(len(connected))\n",
    "                    await ws.send(message)\n",
    "                except:\n",
    "                    pass\n",
    "            \n",
    "\n",
    "if __name__ == \"__main__\":\n",
    "\n",
    "    connected = set()\n",
    "    loop = asyncio.get_event_loop()\n",
    "    loop.run_until_complete(\n",
    "        websockets.serve(handler, '0.0.0.0', 5678))\n",
    "    loop.run_forever()"
   ]
  },
  {
   "cell_type": "markdown",
   "metadata": {
    "collapsed": true
   },
   "source": [
    "# 멀티프로세스 (윈도우에서는 스크립트로 돌려야함!)"
   ]
  },
  {
   "cell_type": "markdown",
   "metadata": {},
   "source": [
    "![_](img/1.png)"
   ]
  },
  {
   "cell_type": "code",
   "execution_count": 4,
   "metadata": {},
   "outputs": [
    {
     "name": "stdout",
     "output_type": "stream",
     "text": [
      "0.22705459594726562\n"
     ]
    }
   ],
   "source": [
    "from multiprocessing import Process\n",
    "import time\n",
    "import os\n",
    "\n",
    "\n",
    "def GO(N, D):\n",
    "\n",
    "    list(range(N // D))\n",
    "    print(\"parent process: {} | process id: {}\".format(os.getppid(), os.getpid()))\n",
    "    \n",
    "    \n",
    "if __name__=='__main__':\n",
    "\n",
    "    N = 100000000\n",
    "    D = os.cpu_count()\n",
    "    \n",
    "    start = time.time()\n",
    "\n",
    "    processes = []\n",
    "\n",
    "    for i in range(D):\n",
    "        proc = Process(target=GO, args=(N, D))\n",
    "        processes.append(proc)\n",
    "    \n",
    "    for proc in processes:\n",
    "        proc.start()\n",
    "    \n",
    "    for proc in processes:\n",
    "        proc.join()\n",
    "        \n",
    "    print(time.time() - start)"
   ]
  },
  {
   "cell_type": "markdown",
   "metadata": {},
   "source": [
    "# Pool"
   ]
  },
  {
   "cell_type": "code",
   "execution_count": null,
   "metadata": {
    "collapsed": true
   },
   "outputs": [],
   "source": [
    "from multiprocessing import Pool\n",
    "import os\n",
    "\n",
    "\n",
    "def f(x):\n",
    "    \n",
    "    print(\"process id: {} | value: {}\".format(os.getpid(), x))\n",
    "    return os.getpid()\n",
    "\n",
    "\n",
    "if __name__ == '__main__':\n",
    "        \n",
    "    D = os.cpu_count()\n",
    "    \n",
    "    with Pool(D) as p:\n",
    "        print(set(p.map(f, range(8))))"
   ]
  },
  {
   "cell_type": "markdown",
   "metadata": {},
   "source": [
    "# Queue"
   ]
  },
  {
   "cell_type": "code",
   "execution_count": 14,
   "metadata": {},
   "outputs": [
    {
     "name": "stdout",
     "output_type": "stream",
     "text": [
      "[0, 1, 2, 3, 4, 5, 6, 7, 8, 9]\n",
      "[10, 11, 12, 13, 14, 15, 16, 17, 18, 19]\n"
     ]
    }
   ],
   "source": [
    "from multiprocessing import Process, Queue\n",
    "import time\n",
    "\n",
    "\n",
    "def f1(q):\n",
    "    \n",
    "    data = list(range(10))\n",
    "    q.put(data)\n",
    "\n",
    "    \n",
    "def f2(q):\n",
    "    \n",
    "    data = list(range(10, 20))\n",
    "    data = q.put(data)\n",
    "\n",
    "    \n",
    "    \n",
    "if __name__ == '__main__':\n",
    "    \n",
    "    q = Queue()\n",
    "    \n",
    "    p1 = Process(target=f1, args=(q,))\n",
    "    p2 = Process(target=f2, args=(q,))\n",
    "    p1.start()\n",
    "    p2.start()\n",
    "\n",
    "    p1.join()\n",
    "    p2.join()\n",
    "    \n",
    "    print(q.get())\n",
    "    print(q.get())"
   ]
  },
  {
   "cell_type": "markdown",
   "metadata": {},
   "source": [
    "# 암호화"
   ]
  },
  {
   "cell_type": "code",
   "execution_count": 14,
   "metadata": {},
   "outputs": [
    {
     "name": "stdout",
     "output_type": "stream",
     "text": [
      "암호화된값:  29de565b5a62403b46790bac6efeb40a8f1f2161b03cd23b2fbdeeb96abd72d4\n",
      "\n",
      "쿠키값:  MjlkZTU2NWI1YTYyNDAzYjQ2NzkwYmFjNmVmZWI0MGE4ZjFmMjE2MWIwM2NkMjNiMmZiZGVlYjk2YWJkNzJkNA==\n",
      "\n",
      "쿠키값디코딩:  29de565b5a62403b46790bac6efeb40a8f1f2161b03cd23b2fbdeeb96abd72d4\n"
     ]
    }
   ],
   "source": [
    "from Crypto.Hash import SHA256\n",
    "from base64 import b64encode, b64decode\n",
    "\n",
    "\n",
    "if __name__ == \"__main__\":\n",
    "\n",
    "    hashing = SHA256.new()\n",
    "    hashing.update(b'seohasong')\n",
    "\n",
    "    암호화된값 = hashing.hexdigest()\n",
    "    쿠키값 = b64encode(암호화된값.encode(\"utf-8\")).decode(\"utf-8\")\n",
    "    쿠키값디코딩 = b64decode(쿠키값).decode(\"utf-8\")\n",
    "    \n",
    "    print(\"암호화된값: \", 암호화된값)\n",
    "    print()\n",
    "    print(\"쿠키값: \", 쿠키값)\n",
    "    print()\n",
    "    print(\"쿠키값디코딩: \", 쿠키값디코딩)"
   ]
  },
  {
   "cell_type": "markdown",
   "metadata": {},
   "source": [
    "# 세션 탈취\n",
    "\n",
    "![_](img/2.png)"
   ]
  },
  {
   "cell_type": "code",
   "execution_count": 15,
   "metadata": {},
   "outputs": [
    {
     "name": "stdout",
     "output_type": "stream",
     "text": [
      "json_data:  {\"code\":200,\"data\":{\"id\":\"tisutoo\",\"sc_id\":\"ku\",\"sc_email\":\"tisutoo\",\"phone_number\":null,\"coffee_bean\":0,\"points\":10,\"evaluation_count\":24,\"note_count\":0,\"purchase_note_count\":0,\"facebook\":null,\"google\":null,\"read_lec_eval_authority\":true}}\n",
      "\n",
      "쿠키값디코딩:  {\"iv\":\"gxnCRaE+l0lm7r9QSE0BvA==\",\"value\":\"RaogFKviVLg+381CE9wykt1OEMAKHzuu+1ykoJLufeZgM\\/Bi2m9kPemdkFqgFM4xON1Y35MJyNAZ6125EceylaR4BhIaSPInir+R+iMmj6U=\",\"mac\":\"5cb3b91a57d815f2b190c7edad0cc2110e05bc1849fad11356a15fad33b36740\"}\n"
     ]
    }
   ],
   "source": [
    "import requests\n",
    "\n",
    "cookie = \"remember_web_59ba36addc2b2f9401580f014c7f58ea4e30989d=eyJpdiI6Imd4bkNSYUUrbDBsbTdyOVFTRTBCdkE9PSIsInZhbHVlIjoiUmFvZ0ZLdmlWTGcrMzgxQ0U5d3lrdDFPRU1BS0h6dXUrMXlrb0pMdWZlWmdNXC9CaTJtOWtQZW1ka0ZxZ0ZNNHhPTjFZMzVNSnlOQVo2MTI1RWNleWxhUjRCaElhU1BJbmlyK1IraU1tajZVPSIsIm1hYyI6IjVjYjNiOTFhNTdkODE1ZjJiMTkwYzdlZGFkMGNjMjExMGUwNWJjMTg0OWZhZDExMzU2YTE1ZmFkMzNiMzY3NDAifQ\"\n",
    "\n",
    "headers = {\n",
    "    \"Cookie\": cookie\n",
    "}\n",
    "\n",
    "json_data = requests.get(\"https://api.klue.kr/info/mypage\", headers=headers).text\n",
    "쿠키값디코딩 = b64decode(cookie.split(\"=\")[-1] + \"==\").decode(\"utf-8\")\n",
    "\n",
    "print(\"json_data: \", json_data)\n",
    "print()\n",
    "print(\"쿠키값디코딩: \", 쿠키값디코딩)"
   ]
  },
  {
   "cell_type": "markdown",
   "metadata": {},
   "source": [
    "# Headless Chrome\n",
    "\n",
    "```bash\n",
    "# alias chrome=\"/Applications/Google\\ Chrome.app/Contents/MacOS/Google\\ Chrome\"\n",
    "chrome --headless --disable-gpu --dump-dom https://klue.kr/ > index.html\n",
    "python -m SimpleHTTPServer 1111\n",
    "```"
   ]
  },
  {
   "cell_type": "markdown",
   "metadata": {},
   "source": [
    "# 세션 탈취 + Selenium Webdriver + Headless Chrome\n",
    "\n",
    "- https://sites.google.com/a/chromium.org/chromedriver/getting-started"
   ]
  },
  {
   "cell_type": "code",
   "execution_count": null,
   "metadata": {
    "collapsed": true
   },
   "outputs": [],
   "source": []
  }
 ],
 "metadata": {
  "kernelspec": {
   "display_name": "Python 3",
   "language": "python",
   "name": "python3"
  },
  "language_info": {
   "codemirror_mode": {
    "name": "ipython",
    "version": 3
   },
   "file_extension": ".py",
   "mimetype": "text/x-python",
   "name": "python",
   "nbconvert_exporter": "python",
   "pygments_lexer": "ipython3",
   "version": "3.6.3"
  }
 },
 "nbformat": 4,
 "nbformat_minor": 2
}
